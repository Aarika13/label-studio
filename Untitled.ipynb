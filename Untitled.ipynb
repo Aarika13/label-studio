{
 "cells": [
  {
   "cell_type": "code",
   "execution_count": 1,
   "id": "f936b43a",
   "metadata": {},
   "outputs": [],
   "source": [
    "import os\n",
    "\n",
    "def create_image_urls(directory):\n",
    "    \"\"\"\n",
    "    Generate image URLs for all image files in the specified directory\n",
    "    \"\"\"\n",
    "    image_urls = []\n",
    "    for filename in os.listdir(directory):\n",
    "        if filename.lower().endswith(('.jpg', '.jpeg', '.png', '.gif', '.bmp', '.svg')):\n",
    "            image_urls.append(f'http://localhost:8081/{filename}')\n",
    "    return image_urls\n"
   ]
  },
  {
   "cell_type": "code",
   "execution_count": 3,
   "id": "592ad0b3",
   "metadata": {},
   "outputs": [
    {
     "name": "stdout",
     "output_type": "stream",
     "text": [
      "['http://localhost:8081/51fKgIgEv5L.jpg', 'http://localhost:8081/63a085d8d4fdce0328d9226c_Screen Shot 2022-12-19 at 10.38.35 AM.png', 'http://localhost:8081/8150716b94bdf1e235300c5f3036f383-invoice-template-pdf-grey-1.png', 'http://localhost:8081/18102022_TAX_INVOICE_IN00012_ClearTax-11-1024x1012.jpg']\n"
     ]
    }
   ],
   "source": [
    "image_directory = \"/home/aarika/Desktop/New_OCR/myfiles/sample/\"\n",
    "urls = create_image_urls(image_directory)\n",
    "print(urls)\n"
   ]
  },
  {
   "cell_type": "code",
   "execution_count": null,
   "id": "2ba651bf",
   "metadata": {},
   "outputs": [],
   "source": []
  }
 ],
 "metadata": {
  "kernelspec": {
   "display_name": "Python 3 (ipykernel)",
   "language": "python",
   "name": "python3"
  },
  "language_info": {
   "codemirror_mode": {
    "name": "ipython",
    "version": 3
   },
   "file_extension": ".py",
   "mimetype": "text/x-python",
   "name": "python",
   "nbconvert_exporter": "python",
   "pygments_lexer": "ipython3",
   "version": "3.10.6"
  }
 },
 "nbformat": 4,
 "nbformat_minor": 5
}
